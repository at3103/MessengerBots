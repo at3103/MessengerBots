{
 "cells": [
  {
   "cell_type": "code",
   "execution_count": null,
   "metadata": {},
   "outputs": [],
   "source": [
    "import os\n",
    "import time\n",
    "import re\n",
    "from slackclient import SlackClient"
   ]
  },
  {
   "cell_type": "code",
   "execution_count": null,
   "metadata": {},
   "outputs": [],
   "source": [
    "from config import SLACK_BOT_TOKEN"
   ]
  },
  {
   "cell_type": "code",
   "execution_count": null,
   "metadata": {},
   "outputs": [],
   "source": [
    "# instantiate Slack client\n",
    "slack_client = SlackClient(SLACK_BOT_TOKEN)\n",
    "# starterbot's user ID in Slack: value is assigned after the bot starts up\n",
    "starterbot_id = None\n",
    "\n",
    "# constants\n",
    "RTM_READ_DELAY = 1 # 1 second delay between reading from RTM\n",
    "EXAMPLE_COMMAND = \"do\"\n",
    "MENTION_REGEX = \"^<@(|[WU].+?)>(.*)\""
   ]
  },
  {
   "cell_type": "code",
   "execution_count": null,
   "metadata": {},
   "outputs": [],
   "source": [
    "def parse_bot_commands(slack_events):\n",
    "    \"\"\"\n",
    "        Parses a list of events coming from the Slack RTM API to find bot commands.\n",
    "        If a bot command is found, this function returns a tuple of command and channel.\n",
    "        If its not found, then this function returns None, None.\n",
    "    \"\"\"\n",
    "    for event in slack_events:\n",
    "        if event[\"type\"] == \"message\" and not \"subtype\" in event:\n",
    "            user_id, message = parse_direct_mention(event[\"text\"])\n",
    "            if user_id == starterbot_id:\n",
    "                return message, event[\"channel\"]\n",
    "    return None, None\n",
    "\n",
    "def parse_direct_mention(message_text):\n",
    "    \"\"\"\n",
    "        Finds a direct mention (a mention that is at the beginning) in message text\n",
    "        and returns the user ID which was mentioned. If there is no direct mention, returns None\n",
    "    \"\"\"\n",
    "    matches = re.search(MENTION_REGEX, message_text)\n",
    "    # the first group contains the username, the second group contains the remaining message\n",
    "    return (matches.group(1), matches.group(2).strip()) if matches else (None, None)\n",
    "\n",
    "def handle_command(command, channel):\n",
    "    \"\"\"\n",
    "        Executes bot command if the command is known\n",
    "    \"\"\"\n",
    "    # Default response is help text for the user\n",
    "    default_response = \"Not sure what you mean. Try *{}*.\".format(EXAMPLE_COMMAND)\n",
    "\n",
    "    # Finds and executes the given command, filling in response\n",
    "    response = None\n",
    "    # This is where you start to implement more commands!\n",
    "    if command.startswith(EXAMPLE_COMMAND):\n",
    "        response = \"Sure...write some more code then I can do that!\"\n",
    "\n",
    "    # Sends the response back to the channel\n",
    "    slack_client.api_call(\n",
    "        \"chat.postMessage\",\n",
    "        channel=channel,\n",
    "        text=response or default_response\n",
    "    )"
   ]
  },
  {
   "cell_type": "code",
   "execution_count": null,
   "metadata": {
    "scrolled": true
   },
   "outputs": [],
   "source": [
    "if __name__ == \"__main__\":\n",
    "    if slack_client.rtm_connect(with_team_state=False):\n",
    "        print(\"Starter Bot connected and running!\")\n",
    "        # Read bot's user ID by calling Web API method `auth.test`\n",
    "        starterbot_id = slack_client.api_call(\"auth.test\")[\"user_id\"]\n",
    "        while True:\n",
    "            command, channel = parse_bot_commands(slack_client.rtm_read())\n",
    "            if command:\n",
    "                handle_command(command, channel)\n",
    "            time.sleep(RTM_READ_DELAY)\n",
    "    else:\n",
    "        print(\"Connection failed. Exception traceback printed above.\")"
   ]
  },
  {
   "cell_type": "code",
   "execution_count": null,
   "metadata": {},
   "outputs": [],
   "source": []
  }
 ],
 "metadata": {
  "kernelspec": {
   "display_name": "Python 3",
   "language": "python",
   "name": "python3"
  },
  "language_info": {
   "codemirror_mode": {
    "name": "ipython",
    "version": 3
   },
   "file_extension": ".py",
   "mimetype": "text/x-python",
   "name": "python",
   "nbconvert_exporter": "python",
   "pygments_lexer": "ipython3",
   "version": "3.5.2"
  }
 },
 "nbformat": 4,
 "nbformat_minor": 2
}
