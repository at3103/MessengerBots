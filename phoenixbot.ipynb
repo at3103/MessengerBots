{
 "cells": [
  {
   "cell_type": "markdown",
   "metadata": {},
   "source": [
    "Create a custom kernel to use the python and python libraries installed in this particular virtualenvironment to provide a complete and isolated package\n"
   ]
  },
  {
   "cell_type": "code",
   "execution_count": 40,
   "metadata": {
    "collapsed": false
   },
   "outputs": [],
   "source": [
    "import os\n",
    "import time\n",
    "import re\n",
    "import pyowm\n",
    "from enum import Enum\n",
    "from slackclient import SlackClient\n",
    "from config import SLACK_BOT_TOKEN, OWM_API_KEY"
   ]
  },
  {
   "cell_type": "code",
   "execution_count": 41,
   "metadata": {
    "collapsed": true
   },
   "outputs": [],
   "source": [
    "# instantiate Slack client\n",
    "slack_client = SlackClient(SLACK_BOT_TOKEN)\n",
    "# starterbot's user ID in Slack: value is assigned after the bot starts up\n",
    "starterbot_id = None\n",
    "\n",
    "\n",
    "\n",
    "owm = pyowm.OWM(OWM_API_KEY)  # \n",
    "\n",
    "# constants\n",
    "RTM_READ_DELAY = 1 # 1 second delay between reading from RTM\n",
    "EXAMPLE_COMMAND = \"do\"\n",
    "NOT_IMPLEMENTED = \"Sure...write some more code then I can do that!\"\n",
    "GREETINGS = \"Welcome <@{user_id}> to the channel <#{channel}>! Hope you have a good time here!\"\n",
    "MENTION_REGEX = \"^<@(|[WU].+?)>(.*)\"\n",
    "WEATHER_REGEX = \"*weather*\"\n",
    "WEATHER=\"weather\""
   ]
  },
  {
   "cell_type": "code",
   "execution_count": 42,
   "metadata": {
    "collapsed": false
   },
   "outputs": [],
   "source": [
    "class labels(Enum):\n",
    "    example=\"example\"\n",
    "    greeting=\"greeting\"\n",
    "    default=\"default\"\n",
    "    weather=\"weather in city\"\n",
    "    weather_my_loc = \"weather in my location\"\n",
    "    dnt_knw_loc=\"My Apologies! I don't have the capability to guess your current location yet! I'm still learning. Please tell me your city, I'll remember it the next time. Trust me!\""
   ]
  },
  {
   "cell_type": "code",
   "execution_count": 43,
   "metadata": {
    "collapsed": true
   },
   "outputs": [],
   "source": [
    "msg_to_resp = {\"example\":NOT_IMPLEMENTED,\n",
    "               \"greeting\":GREETINGS,\n",
    "               \"default\":\"Not sure what you mean. Try *{}*.\".format(EXAMPLE_COMMAND),\n",
    "               \"weather\":WEATHER}"
   ]
  },
  {
   "cell_type": "code",
   "execution_count": 44,
   "metadata": {
    "collapsed": true
   },
   "outputs": [],
   "source": [
    "city_name_userid = dict()"
   ]
  },
  {
   "cell_type": "code",
   "execution_count": 45,
   "metadata": {
    "collapsed": true
   },
   "outputs": [],
   "source": [
    "# API Wrappers\n",
    "\n",
    "def post_message(msg, channel, ts=None, user=None):\n",
    "    if user:\n",
    "        return slack_client.api_call(\"chat.postEphemeral\", channel=channel\n",
    "                                     ,text=msg, user=user)\n",
    "    else:\n",
    "        return slack_client.api_call(\"chat.postMessage\", channel=channel\n",
    "                                     ,text=msg, thread_ts=ts)\n",
    "\n",
    "def update_message(msg, channel, ts):\n",
    "    return slack_client.api_call(\"chat.update\", channel=channel\n",
    "                                 ,text=msg, ts=ts)\n",
    "\n",
    "def delete_message(msg, channel, ts):\n",
    "    return slack_client.api_call(\"chat.delete\", channel=channel\n",
    "                                 , ts=ts)\n",
    "\n",
    "def add_reaction(emoji, channel, timestamp):\n",
    "    return slack_client.api_call(\"reactions.add\", channel=channel,\n",
    "                                 name=emoji,timestamp=timestamp)\n",
    "\n",
    "def remove_reaction(emoji, channel, timestamp):\n",
    "    return slack_client.api_call(\"reactions.remove\", channel=channel,\n",
    "                                 name=emoji,timestamp=timestamp)\n"
   ]
  },
  {
   "cell_type": "code",
   "execution_count": 46,
   "metadata": {
    "collapsed": true
   },
   "outputs": [],
   "source": [
    "# API Wrappers for OWM\n",
    "\n",
    "def get_weather_and_location(place=None, cityid=None, coords=None, zipcode=None):\n",
    "    \"\"\"\n",
    "    Extract the weather and location object for a given location attribute.\n",
    "    \"\"\"\n",
    "    if cityid:\n",
    "        o = owm.weather_at_id(cityid)\n",
    "    elif coords:\n",
    "        o = owm.weather_at_coords(coords) \n",
    "    elif zipcode:\n",
    "        o = owm.weather_at_zip_code(zipcode)\n",
    "    else:\n",
    "        o = owm.weather_at_place(place)\n",
    "\n",
    "    return o.get_weather(), o.get_location()"
   ]
  },
  {
   "cell_type": "code",
   "execution_count": 47,
   "metadata": {
    "collapsed": true
   },
   "outputs": [],
   "source": [
    "def classify_message(msg, userid=None):\n",
    "    if msg.startswith(EXAMPLE_COMMAND):\n",
    "        return labels.example.name\n",
    "    elif msg.startswith(\"Welcome\"):\n",
    "        return labels.greeting.name\n",
    "    elif re.search(r'(.*) weather|weather in (.*)|(.*)\\'s weather ', msg, re.I|re.M):\n",
    "        return labels.weather.name\n",
    "    elif re.search(r'weather', msg, re.I|re.M):\n",
    "        return labels.weather_my_loc.name\n",
    "    else:\n",
    "        return labels.default.name"
   ]
  },
  {
   "cell_type": "code",
   "execution_count": 48,
   "metadata": {
    "collapsed": true
   },
   "outputs": [],
   "source": [
    "def get_city_name(msg, user_id=None):\n",
    "    \"\"\"\n",
    "    Extract the city name for the message.\n",
    "    \"\"\"\n",
    "    if re.search(r'(.*) weather|weather in (.*)|(.*)\\'s weather ', msg, re.I|re.M):\n",
    "        mtch = re.search(r'(.*) weather|weather in (.*)|(.*)\\'s weather ', msg, re.I|re.M)\n",
    "        city = next(filter(lambda x: x is not None, mtch.groups()), None)\n",
    "    else:\n",
    "        city = city_name_userid.get(user_id, labels.dnt_knw_loc.name)\n",
    "    return city\n"
   ]
  },
  {
   "cell_type": "code",
   "execution_count": 58,
   "metadata": {
    "collapsed": true
   },
   "outputs": [],
   "source": [
    "def get_weather_in_city(city):\n",
    "    try:\n",
    "        w, l = get_weather_and_location(place=city)\n",
    "\n",
    "        status = w.get_detailed_status()\n",
    "        temp = w.get_temperature(unit='celsius')\n",
    "        temp_cur = temp.get('temp', 0)\n",
    "        temp_max = temp.get('temp_max', float('inf'))\n",
    "        temp_min = temp.get('temp_min', float('-inf'))\n",
    "        unit = 'Celsius'\n",
    "\n",
    "        weather = \"\"\"The weather in {city} is {status}. The current temperature is {cur} {unit} \\\n",
    "    and is expected to have a high of {max} {unit} and a low of {min} {unit}\"\"\".format(city=city, status=status,\n",
    "                                                                                           cur=temp_cur, max=temp_max,\n",
    "                                                                                           min=temp_min, unit=unit)\n",
    "    except:\n",
    "        weather = \"\"\"I'm sorry; I'm still learning. I'm currently unable to find the weather of {city}. May be the city has other names? Have you tried them?\"\"\".format(city=city)\n",
    "    return weather"
   ]
  },
  {
   "cell_type": "code",
   "execution_count": 50,
   "metadata": {
    "collapsed": false
   },
   "outputs": [],
   "source": [
    "def parse_bot_commands(slack_events):\n",
    "    \"\"\"\n",
    "        Parses a list of events coming from the Slack RTM API to find bot commands.\n",
    "        If a bot command is found, this function returns a tuple of command and channel.\n",
    "        If its not found, then this function returns None, None.\n",
    "    \"\"\"\n",
    "    for event in slack_events:\n",
    "        \n",
    "        if event[\"type\"] == \"member_joined_channel\" and event[\"user\"] != starterbot_id:\n",
    "            user_id, channel = event[\"user\"], event[\"channel\"]\n",
    "            message = \"Welcome!!\"\n",
    "            return message, channel, user_id\n",
    "        \n",
    "        if event[\"type\"] == \"message\" and not \"subtype\" in event:\n",
    "            user_id, message = parse_direct_mention(event[\"text\"])\n",
    "            if user_id == starterbot_id:\n",
    "                return message, event[\"channel\"], user_id\n",
    "    return None, None, None\n",
    "\n",
    "def parse_direct_mention(message_text):\n",
    "    \"\"\"\n",
    "        Finds a direct mention (a mention that is at the beginning) in message text\n",
    "        and returns the user ID which was mentioned. If there is no direct mention, returns None\n",
    "    \"\"\"\n",
    "    matches = re.search(MENTION_REGEX, message_text)\n",
    "    # the first group contains the username, the second group contains the remaining message\n",
    "    return (matches.group(1), matches.group(2).strip()) if matches else (None, None)\n",
    "\n",
    "def handle_command(command, channel, user_id=None):\n",
    "    \"\"\"\n",
    "        Executes bot command if the command is known\n",
    "    \"\"\"\n",
    "    \n",
    "    msg = classify_message(command)\n",
    "    \n",
    "    # Use the classified message to obtain the corresponding response\n",
    "    response = msg_to_resp.get(msg, None)\n",
    "    \n",
    "    if msg == labels.greeting.name:\n",
    "        response = response.format(user_id=user_id, channel=channel)\n",
    "    elif msg in [labels.weather.name, labels.weather_my_loc.name]:\n",
    "        city = get_city_name(command, user_id)\n",
    "        response = get_weather_in_city(city)\n",
    "\n",
    "    # Sends the response back to the channel\n",
    "    post_message(msg=response or default_response, channel=channel)"
   ]
  },
  {
   "cell_type": "code",
   "execution_count": null,
   "metadata": {
    "collapsed": false,
    "scrolled": true
   },
   "outputs": [],
   "source": [
    "if __name__ == \"__main__\":\n",
    "    if slack_client.rtm_connect(with_team_state=False):\n",
    "        print(\"Starter Bot connected and running!\")\n",
    "        \n",
    "        # Read bot's user ID by calling Web API method `auth.test`\n",
    "        starterbot_id = slack_client.api_call(\"auth.test\")[\"user_id\"]\n",
    "        while True:\n",
    "            command, channel, user_id = parse_bot_commands(slack_client.rtm_read())\n",
    "            if command:\n",
    "                handle_command(command, channel, user_id)\n",
    "            time.sleep(RTM_READ_DELAY)\n",
    "    else:\n",
    "        print(\"Connection failed. Exception traceback printed above.\")"
   ]
  },
  {
   "cell_type": "code",
   "execution_count": null,
   "metadata": {
    "collapsed": false
   },
   "outputs": [],
   "source": [
    "# mtch = re.search(r'weather in (.*) | (.*)\\'s weather | (.*) weather', 'BaNgalore weather', re.I|re.M)\n",
    "mtch = re.search(r'(.*) weather|weather in (.*)|(.*)\\'s weather', 'weather in', re.I|re.M)"
   ]
  },
  {
   "cell_type": "code",
   "execution_count": null,
   "metadata": {
    "collapsed": false
   },
   "outputs": [],
   "source": [
    "if not mtch:\n",
    "    print(True)"
   ]
  },
  {
   "cell_type": "code",
   "execution_count": null,
   "metadata": {
    "collapsed": true
   },
   "outputs": [],
   "source": [
    "def classify_message(msg, userid=None):\n",
    "    if msg.startswith(EXAMPLE_COMMAND):\n",
    "        return labels.example.name\n",
    "    elif msg.startswith(GREETINGS):\n",
    "        return labels.greeting.name\n",
    "    elif re.search(r'(.*) weather|weather in (.*)|(.*)\\'s weather ', msg, re.I|re.M):\n",
    "        mtch = re.search(r'(.*) weather|weather in (.*)|(.*)\\'s weather ', msg, re.I|re.M)\n",
    "        city = next(filter(lambda x: x is not None, mtch.groups()), None)\n",
    "    elif re.search(r'weather', msg, re.I|re.M):\n",
    "        city = get_city_name(userid)\n",
    "        if not city:\n",
    "            return labels.dnt_knw_loc.name \n",
    "    else:\n",
    "        return labels.default.name\n",
    "        \n",
    "    "
   ]
  },
  {
   "cell_type": "code",
   "execution_count": null,
   "metadata": {
    "collapsed": false
   },
   "outputs": [],
   "source": [
    "import sys\n",
    "sys.executable"
   ]
  },
  {
   "cell_type": "code",
   "execution_count": 51,
   "metadata": {
    "collapsed": true
   },
   "outputs": [],
   "source": [
    "o = owm.weather_at_zip_code(zipcode='94014', country='US')\n",
    "\n",
    "w = o.get_weather()"
   ]
  },
  {
   "cell_type": "code",
   "execution_count": 56,
   "metadata": {
    "collapsed": false,
    "scrolled": true
   },
   "outputs": [
    {
     "data": {
      "text/plain": [
       "['__lt__',\n",
       " '_temperature',\n",
       " '__delattr__',\n",
       " 'get_detailed_status',\n",
       " '__setattr__',\n",
       " '__getattribute__',\n",
       " '_humidex',\n",
       " '__str__',\n",
       " 'get_dewpoint',\n",
       " '_humidity',\n",
       " 'get_sunrise_time',\n",
       " '_sunrise_time',\n",
       " '_rain',\n",
       " '_reference_time',\n",
       " '_snow',\n",
       " '_to_DOM',\n",
       " '_clouds',\n",
       " 'get_rain',\n",
       " '__reduce_ex__',\n",
       " '_heat_index',\n",
       " '_detailed_status',\n",
       " 'get_pressure',\n",
       " '__new__',\n",
       " 'to_JSON',\n",
       " '__le__',\n",
       " 'to_XML',\n",
       " '_sunset_time',\n",
       " 'get_weather_code',\n",
       " '_dewpoint',\n",
       " 'get_humidex',\n",
       " '__dict__',\n",
       " '__class__',\n",
       " '__doc__',\n",
       " '__repr__',\n",
       " '__hash__',\n",
       " '_weather_icon_name',\n",
       " '__subclasshook__',\n",
       " 'get_sunset_time',\n",
       " '__gt__',\n",
       " 'get_snow',\n",
       " '__ne__',\n",
       " 'get_humidity',\n",
       " '__init__',\n",
       " '__eq__',\n",
       " '_visibility_distance',\n",
       " '__reduce__',\n",
       " '__sizeof__',\n",
       " 'get_weather_icon_name',\n",
       " '__format__',\n",
       " 'get_clouds',\n",
       " '_status',\n",
       " '__ge__',\n",
       " 'get_visibility_distance',\n",
       " '_pressure',\n",
       " 'get_wind',\n",
       " 'get_reference_time',\n",
       " '__module__',\n",
       " 'get_status',\n",
       " '_weather_code',\n",
       " '_wind',\n",
       " '__dir__',\n",
       " 'get_heat_index',\n",
       " '__weakref__',\n",
       " 'get_temperature']"
      ]
     },
     "execution_count": 56,
     "metadata": {},
     "output_type": "execute_result"
    }
   ],
   "source": [
    "w.__dir__()"
   ]
  },
  {
   "cell_type": "code",
   "execution_count": 57,
   "metadata": {
    "collapsed": false
   },
   "outputs": [
    {
     "data": {
      "text/plain": [
       "'clear sky'"
      ]
     },
     "execution_count": 57,
     "metadata": {},
     "output_type": "execute_result"
    }
   ],
   "source": [
    "w.get_detailed_status()"
   ]
  },
  {
   "cell_type": "code",
   "execution_count": null,
   "metadata": {
    "collapsed": false,
    "scrolled": true
   },
   "outputs": [],
   "source": [
    "w.get_temperature(unit='celsius')"
   ]
  },
  {
   "cell_type": "code",
   "execution_count": null,
   "metadata": {
    "collapsed": true
   },
   "outputs": [],
   "source": [
    "o1 = owm.weather_at_place('New York')\n",
    "\n",
    "w1 = o1.get_weather()"
   ]
  },
  {
   "cell_type": "code",
   "execution_count": null,
   "metadata": {
    "collapsed": false
   },
   "outputs": [],
   "source": [
    "w1.get_temperature(unit='celsius')\n"
   ]
  }
 ],
 "metadata": {
  "kernelspec": {
   "display_name": "bots kernel",
   "language": "python",
   "name": "bots"
  },
  "language_info": {
   "codemirror_mode": {
    "name": "ipython",
    "version": 3
   },
   "file_extension": ".py",
   "mimetype": "text/x-python",
   "name": "python",
   "nbconvert_exporter": "python",
   "pygments_lexer": "ipython3",
   "version": "3.5.2"
  }
 },
 "nbformat": 4,
 "nbformat_minor": 2
}
